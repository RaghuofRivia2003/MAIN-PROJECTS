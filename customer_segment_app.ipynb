{
 "cells": [
  {
   "cell_type": "code",
   "execution_count": null,
   "id": "78380bf8",
   "metadata": {},
   "outputs": [],
   "source": [
    "# ✨ Required Libraries\n",
    "import pandas as pd\n",
    "import gradio as gr\n",
    "import joblib  # or use pickle"
   ]
  },
  {
   "cell_type": "code",
   "execution_count": null,
   "id": "4f7fee03",
   "metadata": {},
   "outputs": [],
   "source": [
    "# ✅ Load Pretrained Assets\n",
    "model = joblib.load(\"model.pkl\")  # Replace with your actual model path\n",
    "label_encoder = joblib.load(\"label_encoder.pkl\")  # Replace with your label encoder path"
   ]
  },
  {
   "cell_type": "code",
   "execution_count": null,
   "id": "6467fff3",
   "metadata": {},
   "outputs": [],
   "source": [
    "# ✅ Define Input Features\n",
    "features = ['Age', 'Income', 'Kidhome', 'Teenhome', 'Recency', 'MntWines']\n",
    "\n",
    "# Dummy data just to compute column means (used for missing values)\n",
    "X = pd.read_csv(\"your_dataset.csv\")  # This should be the same dataset used for training"
   ]
  },
  {
   "cell_type": "code",
   "execution_count": null,
   "id": "08c599b0",
   "metadata": {},
   "outputs": [],
   "source": [
    "# 🧠 Prediction Function\n",
    "def predict_customer_category(age, income, kidhome, teenhome, recency, mntwines):\n",
    "    try:\n",
    "        input_data = pd.DataFrame([[age, income, kidhome, teenhome, recency, mntwines]], columns=features)\n",
    "        input_data = input_data.fillna(X.mean())\n",
    "        prediction = model.predict(input_data)[0]\n",
    "        predicted_label = label_encoder.inverse_transform([prediction])[0]\n",
    "        return f\"✅ Predicted Customer Category: {predicted_label}\"\n",
    "    except Exception as e:\n",
    "        return f\"❌ Error: {e}\""
   ]
  },
  {
   "cell_type": "code",
   "execution_count": null,
   "id": "790f6327",
   "metadata": {},
   "outputs": [],
   "source": [
    "# 🎛️ Gradio Interface\n",
    "inputs = [\n",
    "    gr.Slider(18, 90, step=1, label=\"Age\"),\n",
    "    gr.Slider(10000, 150000, step=1000, label=\"Income\"),\n",
    "    gr.Slider(0, 5, step=1, label=\"Number of kids at home\"),\n",
    "    gr.Slider(0, 5, step=1, label=\"Number of teens at home\"),\n",
    "    gr.Slider(0, 100, step=1, label=\"Recency (days since last purchase)\"),\n",
    "    gr.Slider(0, 1000, step=10, label=\"Wine Spending\"),\n",
    "]\n",
    "\n",
    "interface = gr.Interface(\n",
    "    fn=predict_customer_category,\n",
    "    inputs=inputs,\n",
    "    outputs=\"text\",\n",
    "    title=\"Customer Category Predictor\",\n",
    "    description=\"Enter customer details to predict their marketing category based on behavioral segmentation.\"\n",
    ")"
   ]
  },
  {
   "cell_type": "code",
   "execution_count": null,
   "id": "a881a65e",
   "metadata": {},
   "outputs": [],
   "source": [
    "# 🚀 Launch the App\n",
    "interface.launch()"
   ]
  }
 ],
 "metadata": {
  "kernelspec": {
   "display_name": "Python 3",
   "name": "python3"
  }
 },
 "nbformat": 4,
 "nbformat_minor": 5
}